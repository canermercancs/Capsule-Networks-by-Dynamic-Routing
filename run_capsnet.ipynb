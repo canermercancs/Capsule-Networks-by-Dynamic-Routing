{
 "cells": [
  {
   "cell_type": "code",
   "execution_count": 1,
   "metadata": {},
   "outputs": [],
   "source": [
    "import data.online_data as ondata\n",
    "import model.props.hyperparams as hp\n",
    "from model.capsule_model import CapsNet"
   ]
  },
  {
   "cell_type": "code",
   "execution_count": 2,
   "metadata": {},
   "outputs": [],
   "source": [
    "mnist_loader = ondata.load_MNIST(hp.args['batch_size'])\n",
    "for p in mnist_loader.keys():\n",
    "#     if p == 'train': convlayer.train()\n",
    "#     else           : convlayer.eval()\n",
    "    \n",
    "    for idx, (input_batch, label_batch) in enumerate(mnist_loader[p]):\n",
    "        input_batch = input_batch.to(hp.args['device'])\n",
    "        label_batch = label_batch.to(hp.args['device'])\n",
    "        \n",
    "        #outputs = model(input_batch)\n",
    "        break\n",
    "    break"
   ]
  },
  {
   "cell_type": "code",
   "execution_count": 3,
   "metadata": {},
   "outputs": [
    {
     "name": "stdout",
     "output_type": "stream",
     "text": [
      "torch.Size([4, 1, 10, 16, 1])\n",
      "torch.Size([4, 1152, 10, 16, 1])\n",
      "torch.Size([4, 1, 10, 16, 1])\n",
      "torch.Size([4, 1152, 10, 16, 1])\n",
      "torch.Size([4, 1, 10, 16, 1])\n",
      "torch.Size([4, 1152, 10, 16, 1])\n"
     ]
    }
   ],
   "source": [
    "capsmodel = CapsNet(hp.args, \n",
    "                    hp.convlayer_props, \n",
    "                    hp.capslayer_props, \n",
    "                    hp.digilayer_props)\n",
    "capsmodel = capsmodel.to(hp.args['device'])\n",
    "\n",
    "out = capsmodel(input_batch)"
   ]
  },
  {
   "cell_type": "code",
   "execution_count": 4,
   "metadata": {},
   "outputs": [
    {
     "data": {
      "text/plain": [
       "torch.Size([4, 10, 16])"
      ]
     },
     "execution_count": 4,
     "metadata": {},
     "output_type": "execute_result"
    }
   ],
   "source": [
    "out.shape"
   ]
  },
  {
   "cell_type": "code",
   "execution_count": 7,
   "metadata": {},
   "outputs": [],
   "source": [
    "import torch\n",
    "import torch.nn as nn\n",
    "a = nn.Parameter(torch.randn(2,3,4))"
   ]
  },
  {
   "cell_type": "code",
   "execution_count": 19,
   "metadata": {},
   "outputs": [],
   "source": [
    "b = torch.stack([a]*3,dim=0)"
   ]
  },
  {
   "cell_type": "code",
   "execution_count": 20,
   "metadata": {},
   "outputs": [
    {
     "data": {
      "text/plain": [
       "torch.Tensor"
      ]
     },
     "execution_count": 20,
     "metadata": {},
     "output_type": "execute_result"
    }
   ],
   "source": [
    "type(b)"
   ]
  }
 ],
 "metadata": {
  "kernelspec": {
   "display_name": "Python 3",
   "language": "python",
   "name": "python3"
  },
  "language_info": {
   "codemirror_mode": {
    "name": "ipython",
    "version": 3
   },
   "file_extension": ".py",
   "mimetype": "text/x-python",
   "name": "python",
   "nbconvert_exporter": "python",
   "pygments_lexer": "ipython3",
   "version": "3.6.4"
  }
 },
 "nbformat": 4,
 "nbformat_minor": 2
}
